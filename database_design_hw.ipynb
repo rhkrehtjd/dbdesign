{
 "cells": [
  {
   "cell_type": "code",
   "execution_count": 118,
   "id": "c87b3adb-38cf-4631-bf71-3633bb5e4a9d",
   "metadata": {
    "slideshow": {
     "slide_type": "subslide"
    }
   },
   "outputs": [],
   "source": [
    "import pandas as pd\n",
    "import mysql.connector\n",
    "import pandas as pd\n",
    "\n",
    "from bs4 import BeautifulSoup\n",
    "from selenium import webdriver\n",
    "from selenium.webdriver.common.by import By\n",
    "from selenium.webdriver.chrome.service import Service\n",
    "from selenium.webdriver.chrome.options import Options"
   ]
  },
  {
   "cell_type": "code",
   "execution_count": 119,
   "id": "ebed3c56-a175-4637-a1c3-a10b2994d1b5",
   "metadata": {},
   "outputs": [],
   "source": [
    "df = pd.read_csv(\"ttrain.csv\", encoding=\"UTF-8\")\n",
    "df = df.iloc[:, 1:]\n",
    "df.columns = [\"dept\", \"arr\", \"category\", \"cases\"]\n",
    "df[[\"dept\", \"arr\"]] = df[[\"dept\", \"arr\"]].apply(lambda x: x.astype(str))\n",
    "df[[\"dept\", \"arr\"]] = df[[\"dept\", \"arr\"]].apply(lambda x: x.str[:5])\n",
    "\n",
    "code = pd.read_excel(\"code.xlsx\", sheet_name=0)\n",
    "code.columns = [\"code\"]\n",
    "code['code'] = code['code'].apply(lambda x: x[11:])\n",
    "code = code['code'].str.split(' | ', expand=True)\n",
    "code = code.drop(code.columns[[1, 3]], axis=1)\n",
    "code = code.rename(columns={0 : 'code',2 : 'name'})\n",
    "code['name'] = code['name'].astype(str)\n",
    "\n",
    "df_merged = pd.merge(df, code, left_on=\"dept\", right_on=\"code\", how=\"left\")\n",
    "df_merged.rename(columns={\"name\": \"dept_name\"}, inplace=True)\n",
    "df_merged = pd.merge(df_merged, code, left_on=\"arr\", right_on=\"code\", how=\"left\")\n",
    "df_merged.rename(columns={\"name\": \"arr_name\"}, inplace=True)\n",
    "df = df_merged[[\"dept\", \"dept_name\", \"arr\", \"arr_name\", \"category\", \"cases\"]]\n",
    "df = df.groupby([\"dept_name\", \"arr_name\", \"category\"]).agg(total_cases=(\"cases\", \"sum\")).reset_index()"
   ]
  },
  {
   "cell_type": "markdown",
   "id": "5b795763-79b1-4241-afd7-f6898b692a75",
   "metadata": {},
   "source": [
    "----"
   ]
  },
  {
   "cell_type": "code",
   "execution_count": 72,
   "id": "f5eb6598-40ce-465a-9eb9-c9bb2e9fae15",
   "metadata": {},
   "outputs": [
    {
     "name": "stdin",
     "output_type": "stream",
     "text": [
      "원하는 지역?  파주시\n"
     ]
    }
   ],
   "source": [
    "name = input(\"원하는 지역? \")"
   ]
  },
  {
   "cell_type": "code",
   "execution_count": 73,
   "id": "78a69b35-2aa5-4a67-992b-5052ce49fe38",
   "metadata": {},
   "outputs": [
    {
     "data": {
      "text/html": [
       "<div>\n",
       "<style scoped>\n",
       "    .dataframe tbody tr th:only-of-type {\n",
       "        vertical-align: middle;\n",
       "    }\n",
       "\n",
       "    .dataframe tbody tr th {\n",
       "        vertical-align: top;\n",
       "    }\n",
       "\n",
       "    .dataframe thead th {\n",
       "        text-align: right;\n",
       "    }\n",
       "</style>\n",
       "<table border=\"1\" class=\"dataframe\">\n",
       "  <thead>\n",
       "    <tr style=\"text-align: right;\">\n",
       "      <th></th>\n",
       "      <th>dept_name</th>\n",
       "      <th>arr_name</th>\n",
       "      <th>category</th>\n",
       "      <th>total_cases</th>\n",
       "    </tr>\n",
       "  </thead>\n",
       "  <tbody>\n",
       "    <tr>\n",
       "      <th>4108</th>\n",
       "      <td>파주시</td>\n",
       "      <td>서귀포시</td>\n",
       "      <td>가공식품</td>\n",
       "      <td>147</td>\n",
       "    </tr>\n",
       "    <tr>\n",
       "      <th>4109</th>\n",
       "      <td>파주시</td>\n",
       "      <td>서귀포시</td>\n",
       "      <td>기타디지털/가전</td>\n",
       "      <td>7</td>\n",
       "    </tr>\n",
       "    <tr>\n",
       "      <th>4110</th>\n",
       "      <td>파주시</td>\n",
       "      <td>서귀포시</td>\n",
       "      <td>기타식품</td>\n",
       "      <td>9</td>\n",
       "    </tr>\n",
       "  </tbody>\n",
       "</table>\n",
       "</div>"
      ],
      "text/plain": [
       "     dept_name arr_name  category  total_cases\n",
       "4108       파주시     서귀포시      가공식품          147\n",
       "4109       파주시     서귀포시  기타디지털/가전            7\n",
       "4110       파주시     서귀포시      기타식품            9"
      ]
     },
     "execution_count": 73,
     "metadata": {},
     "output_type": "execute_result"
    }
   ],
   "source": [
    "# 첫번째 테이블\n",
    "dept_region_subset = df[df[\"dept_name\"].str.contains(name)]"
   ]
  },
  {
   "cell_type": "code",
   "execution_count": 75,
   "id": "9def0231-bed4-4a4a-a6bd-8296ecaf3432",
   "metadata": {},
   "outputs": [],
   "source": [
    "category_sum = df[df[\"dept_name\"].str.contains(name)].groupby(\"category\")\\\n",
    ".agg(total_cases=(\"total_cases\", \"sum\"))\\\n",
    ".sort_values(\"total_cases\", ascending=False)\\\n",
    ".head(3)\\\n",
    ".reset_index()\n",
    "\n",
    "category_sum[\"dept_region\"] = name\n",
    "top_categories = category_sum[\"category\"].tolist()"
   ]
  },
  {
   "cell_type": "code",
   "execution_count": 77,
   "id": "a498c2f7-3805-4cfe-b087-503424e3fc78",
   "metadata": {},
   "outputs": [],
   "source": [
    "category_sum = df[df[\"arr_name\"].str.contains(name)].groupby(\"category\")\\\n",
    ".agg(total_cases=(\"total_cases\", \"sum\"))\\\n",
    ".sort_values(\"total_cases\", ascending=False)\\\n",
    ".head(3)\\\n",
    ".reset_index()\n",
    "\n",
    "category_sum[\"arr_region\"] = name\n",
    "top_categories = category_sum[\"category\"].tolist()"
   ]
  },
  {
   "cell_type": "code",
   "execution_count": 96,
   "id": "3627e3de-91f1-4802-9fdd-b3446aeef5f5",
   "metadata": {},
   "outputs": [],
   "source": [
    "def getitem(top_categories):\n",
    "    chrome_options = Options()\n",
    "    driver = webdriver.Chrome(service=Service('/Users/gwagdoseong/Documents/Rprogramming/chromedriver.exe'), options=chrome_options)\n",
    "\n",
    "    max_page = 5\n",
    "    result = pd.DataFrame(columns=[\"keyword\", \"item_name\"])\n",
    "\n",
    "    for word in top_categories:\n",
    "        for i in range(1, max_page+1):\n",
    "            URL = f'https://search.shopping.naver.com/search/all?query={word}&pagingIndex={i}&pagingSize=40&productSet=total&sort=rel'\n",
    "            driver.get(URL)\n",
    "\n",
    "            soup = BeautifulSoup(driver.page_source, 'html.parser')\n",
    "            goods_list = soup.select('div.basicList_title__VfX3c')\n",
    "\n",
    "            item_names = []\n",
    "            for v in goods_list:\n",
    "                item_name = v.select_one('div.basicList_title__VfX3c > a').get('title')\n",
    "                item_names.append(item_name)\n",
    "\n",
    "            df = pd.DataFrame({\"keyword\": [word]*len(item_names), \"item_name\": item_names})\n",
    "            result = pd.concat([result, df], ignore_index=True)\n",
    "    return result\n",
    "    driver.quit()"
   ]
  },
  {
   "cell_type": "code",
   "execution_count": 97,
   "id": "46d0dfae-8d5b-4eac-97d0-40b01f99b69c",
   "metadata": {},
   "outputs": [],
   "source": [
    "results = getitem(top_categories)"
   ]
  },
  {
   "cell_type": "code",
   "execution_count": 120,
   "id": "b1632df1-4be2-45d3-bbf1-57ecb4e48cce",
   "metadata": {},
   "outputs": [],
   "source": [
    "mydb = mysql.connector.connect(\n",
    "    host=\"localhost\",\n",
    "    user=\"root\",\n",
    "    password=\"264433\")"
   ]
  },
  {
   "cell_type": "code",
   "execution_count": 121,
   "id": "499c14a3-2138-47b1-ad98-9741f55328a1",
   "metadata": {},
   "outputs": [],
   "source": [
    "cursor = mydb.cursor()\n",
    "cursor.execute(\"SET NAMES utf8;\")\n",
    "cursor.execute(\"SET CHARACTER SET utf8;\")\n",
    "cursor.execute(\"SET character_set_connection=utf8;\")\n",
    "cursor.execute(\"SET GLOBAL local_infile = true;\")"
   ]
  },
  {
   "cell_type": "code",
   "execution_count": 122,
   "id": "a78dd49a-a8c8-4b07-8b62-ca7180b885ba",
   "metadata": {},
   "outputs": [],
   "source": [
    "cursor.execute(\"USE LOGISTICS\")"
   ]
  },
  {
   "cell_type": "code",
   "execution_count": 104,
   "id": "2264e29a-82dd-4322-b8bc-9453e6aea1a8",
   "metadata": {},
   "outputs": [],
   "source": [
    "cursor.execute(\"CREATE TABLE \\\n",
    "logistics (dept_name VARCHAR(15)CHARACTER SET utf8,\\\n",
    "arr_name VARCHAR(15)CHARACTER SET utf8,\\\n",
    "category VARCHAR(15)CHARACTER SET utf8,\\\n",
    "total_cases INT) \")"
   ]
  },
  {
   "cell_type": "code",
   "execution_count": 105,
   "id": "44c87673-208f-4027-8453-20081682ca9b",
   "metadata": {},
   "outputs": [],
   "source": [
    "for _, row in df.iterrows():\n",
    "    cursor.execute(f\"INSERT INTO logistics (dept_name, arr_name, category, total_cases) \\\n",
    "        VALUES ('{row['dept_name']}', '{row['arr_name']}', '{row['category']}', {row['total_cases']})\")\n"
   ]
  },
  {
   "cell_type": "code",
   "execution_count": 94,
   "id": "5b758f1b-77c3-420e-b1d3-2ad202670f11",
   "metadata": {},
   "outputs": [
    {
     "data": {
      "text/plain": [
       "'파주시'"
      ]
     },
     "execution_count": 94,
     "metadata": {},
     "output_type": "execute_result"
    }
   ],
   "source": [
    "name"
   ]
  },
  {
   "cell_type": "code",
   "execution_count": 106,
   "id": "2c4a2f7a-5b42-430a-a406-27de906a993c",
   "metadata": {},
   "outputs": [],
   "source": [
    "table_name = \"top_item_\" + name\n",
    "cursor.execute(f\"CREATE TABLE {table_name} (keyword VARCHAR(15) CHARACTER SET utf8, item_name VARCHAR(65) CHARACTER SET utf8)\")\n"
   ]
  },
  {
   "cell_type": "code",
   "execution_count": 108,
   "id": "10ae4c95-6b24-4e28-a68c-0e52ed4aa3db",
   "metadata": {},
   "outputs": [],
   "source": [
    "for _, row in results.iterrows():\n",
    "    cursor.execute(f\"INSERT INTO {table_name} (keyword, item_name) \\\n",
    "        VALUES ('{row['keyword']}', '{row['item_name']}')\")\n"
   ]
  },
  {
   "cell_type": "markdown",
   "id": "6f4a1b96-8cee-45a5-b507-f6eaa1aab5a2",
   "metadata": {},
   "source": [
    "- 새로운 데이터 입력하는 코드"
   ]
  },
  {
   "cell_type": "code",
   "execution_count": 115,
   "id": "44ac7424-1b6e-498a-87c4-7d3e3fb7e304",
   "metadata": {},
   "outputs": [
    {
     "name": "stdin",
     "output_type": "stream",
     "text": [
      "데이터를 몇 개 입력하시겠습니까?  2\n",
      "출발지:  익산시\n",
      "도착지:  제주시\n",
      "카테고리:  123\n",
      "총 케이스 수:  123\n",
      "출발지:  익산시\n",
      "도착지:  서귀포시\n",
      "카테고리:  456\n",
      "총 케이스 수:  456\n"
     ]
    }
   ],
   "source": [
    "sql = \"INSERT INTO logistics (dept_name, arr_name, category, total_cases) VALUES (%s, %s, %s, %s)\"\n",
    "\n",
    "data = []\n",
    "\n",
    "count = int(input(\"데이터를 몇 개 입력하시겠습니까? \"))\n",
    "\n",
    "for i in range(count):\n",
    "    dept_name = input(\"출발지: \")\n",
    "    arr_name = input(\"도착지: \")\n",
    "    category = input(\"카테고리: \")\n",
    "    total_cases = int(input(\"총 케이스 수: \"))\n",
    "    data.append((dept_name, arr_name, category, total_cases))\n",
    "\n",
    "cursor.executemany(sql, data)\n"
   ]
  },
  {
   "cell_type": "markdown",
   "id": "b9e00bf9-5f7b-42d5-822b-04b24e1169a5",
   "metadata": {},
   "source": [
    "- 모든 거 가져오기"
   ]
  },
  {
   "cell_type": "code",
   "execution_count": 116,
   "id": "946b03c5-4cca-4234-8975-f2f3b9389153",
   "metadata": {},
   "outputs": [
    {
     "name": "stdin",
     "output_type": "stream",
     "text": [
      "dept_name을 입력하세요:  익산시\n"
     ]
    },
    {
     "data": {
      "text/plain": [
       "[('익산시', '서귀포시', '기타식품', 17),\n",
       " ('익산시', '서귀포시', '농산물', 6),\n",
       " ('익산시', '서귀포시', '생활용품', 8),\n",
       " ('익산시', '서귀포시', '수산', 55),\n",
       " ('익산시', '서귀포시', '언더웨어', 14),\n",
       " ('익산시', '제주시', 'DIY자재/용품', 14),\n",
       " ('익산시', '제주시', '기타식품', 7),\n",
       " ('익산시', '제주시', '기타패션의류', 5),\n",
       " ('익산시', '제주시', '농산물', 9),\n",
       " ('익산시', '제주시', '생활용품', 35),\n",
       " ('익산시', '제주시', '수산', 86),\n",
       " ('익산시', '제주시', '언더웨어', 53),\n",
       " ('익산시', '제주시', '위생/건강용품', 3),\n",
       " ('익산시', '제주시', '주방용품', 3),\n",
       " ('익산시', '제주시', '축산', 3),\n",
       " ('익산시', '제주시', '123', 123),\n",
       " ('익산시', '서귀포시', '456', 456)]"
      ]
     },
     "execution_count": 116,
     "metadata": {},
     "output_type": "execute_result"
    }
   ],
   "source": [
    "name = input(\"dept_name을 입력하세요: \")\n",
    "\n",
    "sql = \"SELECT * FROM logistics WHERE dept_name = %s\"\n",
    "cursor.execute(sql, (name,))\n",
    "result = cursor.fetchall()\n",
    "\n",
    "result"
   ]
  },
  {
   "cell_type": "code",
   "execution_count": null,
   "id": "69c076d9-23a7-4fa9-9f2c-355bce3a6343",
   "metadata": {},
   "outputs": [],
   "source": [
    "name = input(\"arr_name을 입력하세요: \")\n",
    "\n",
    "sql = \"SELECT * FROM logistics WHERE dept_name = %s\"\n",
    "cursor.execute(sql, (name,))\n",
    "result = cursor.fetchall()\n",
    "\n",
    "result"
   ]
  },
  {
   "cell_type": "code",
   "execution_count": 112,
   "id": "319e30e8-0070-4e32-b61d-debf732d7a99",
   "metadata": {},
   "outputs": [
    {
     "data": {
      "text/plain": [
       "[('농산물', '[첫구매한정]영양쌀 (혼합/보통) 20kg'),\n",
       " ('농산물', '털보네 껍질째먹는 꿀 흠집사과'),\n",
       " ('농산물', '친환경마음밭 유기농양파 조생 양파 3kg5kg'),\n",
       " ('농산물', '수향미 골든퀸 10kg'),\n",
       " ('농산물', '행복드림 쌀 20kg'),\n",
       " ('농산물', '순풍 임산부 건조호박손 차100g+맛보기즙2포'),\n",
       " ('농산물', '굿프렌즈 새싹인삼 미니 100수 1-2년생'),\n",
       " ('농산물', '쿡네이처 국내산 황토 수미 햇 감자'),\n",
       " ('농산물', '영광농협 신동진쌀 20kg'),\n",
       " ('농산물', '애플피치 블러드애플 복숭아사과 엔부사과 피치애플 시나노골드 황옥 홍로 부사'),\n",
       " ('농산물', '[경남 하동] 청정 하동 청매실 5kg 10kg'),\n",
       " ('농산물', '유기농 지리산 장수 상황버섯 150g 선물세트'),\n",
       " ('농산물', '12만고객돌파약도라지협동조합 6년더덕청500g'),\n",
       " ('농산물', '털보네 껍질째먹는 꿀사과 흠집사과 못난이 흠과 5kg 10kg'),\n",
       " ('농산물', '니즈앤니즈 럭키푸드 해남 꿀고구마 특상 5kg'),\n",
       " ('농산물', '22년 혈당강하쌀 쌀10kg/미강분말 추가증정'),\n",
       " ('농산물', '최상급 레몬 극찬 찐후기 확인 필수입니다!'),\n",
       " ('농산물', '[22년] 영양쌀 (혼합/보통) 20kg'),\n",
       " ('농산물', '달다구니 제철 고당도 초당옥수수 그냥먹는 생옥수수 프리미엄 옥수수'),\n",
       " ('농산물', '23년 5월수확 국내산 하우스 햇 수미감자 3kg 제주감자 파근파근 햇감자 홍감자'),\n",
       " ('농산물', '국산 토종 말린 생강 건조 건생강 300g'),\n",
       " ('농산물', '최고당도 제주 한라봉 이렇게 저렴할수가!'),\n",
       " ('농산물', '[산청군농협] 지리산 맛있는 밥맛좋은쌀 백미 청정지역 산청메뚜기쌀 10kg'),\n",
       " ('농산물', '베니하루카 꿀고구마 2kg 5kg 10kg 황금 호박고구마 해남 영암'),\n",
       " ('농산물', '복숭아 하우스 신비복숭아 신선 딱딱이 납작 대극천 백도 황도 임산부 예비맘'),\n",
       " ('기타식품', '자연 섬진강 500g 기타 식품 재첩국 5팩 수산물'),\n",
       " ('기타식품', '장어탕 600g - 기타 즉석식품 즉석식품 기타'),\n",
       " ('기타식품', '장어탕 600g - 기타 즉석식품 즉석식품 기타'),\n",
       " ('기타식품', '장어탕 600g - 기타 즉석식품 즉석식품 기타'),\n",
       " ('기타식품', '노브랜드 사골육수 500g 기타즉석식품  3개'),\n",
       " ('기타식품', '[식품(기타브랜드)] 부대찌개 600gx24팩'),\n",
       " ('기타식품', '[식품(기타브랜드)] 활추어탕 400g x 4팩'),\n",
       " ('기타식품', '[식품(기타브랜드)] 우거지갈비탕 600gx3팩'),\n",
       " ('기타식품', '[식품(기타브랜드)] 소곱창전골 800gx20팩'),\n",
       " ('기타식품', '[식품(기타브랜드)] 임진 밤묵 400gx2+육수 350gx2'),\n",
       " ('기타식품', '[식품(기타브랜드)] 즉석탕 쇠고기국밥국 550g'),\n",
       " ('기타식품', '[식품(기타브랜드)] 초원 황태해장국 600gx5팩'),\n",
       " ('기타식품', '[식품(기타브랜드)] 인삼왕갈비탕 800gx3팩'),\n",
       " ('기타식품', '[식품(기타브랜드)] 나주곰탕 600gx10팩'),\n",
       " ('기타식품', '[식품(기타브랜드)] 갈비탕 600gx25팩'),\n",
       " ('기타식품', '[식품(기타브랜드)] 부대찌개 600gx12팩'),\n",
       " ('기타식품', '[식품(기타브랜드)] 소갈비탕 600gx3팩'),\n",
       " ('기타식품', '[식품(기타브랜드)] 추어탕 600gx5팩'),\n",
       " ('기타식품', '[식품(기타브랜드)] 내장탕 600gx5팩'),\n",
       " ('기타식품', '[식품(기타브랜드)] 재첩국 500g x 5'),\n",
       " ('기타식품', '[식품(기타브랜드)]  따로국밥국 550g'),\n",
       " ('기타식품', '[식품(기타브랜드)]  설렁탕 550g'),\n",
       " ('기타식품', '[식품(기타브랜드)]  소고기국밥국 550g'),\n",
       " ('기타식품', '기타 [식품의즐거움]산청 한우 사골곰탕 600g x 8팩'),\n",
       " ('기타식품', '재첩국 자연 섬진강 팩 수산물 500g 식품 10 기타'),\n",
       " ('음료', '[첫구매한정]롯데칠성 펩시콜라500mlx20펫'),\n",
       " ('음료', '퓨어샐러리주스 300ml (100% 샐러리즙 생착즙)'),\n",
       " ('음료', '샐러리즙 샐러리주스 몸신 유기농 100% 490ml 분쇄착즙 7병'),\n",
       " ('음료', '코카콜라 콜라 190ml'),\n",
       " ('음료', '동아오츠카 포카리스웨트 500ml'),\n",
       " ('음료', '(유기농) 퓨어샐러리주스 300ml (100%샐러리즙 생착즙)'),\n",
       " ('음료', '(런칭)잠들기전 마시는 슬리핑보틀'),\n",
       " ('음료', '잠들기전 마시는 슬리핑보틀 20병 (10개입 X 2박스)'),\n",
       " ('음료', '돈시몬 오렌지주스 1L'),\n",
       " ('음료', '코카콜라 제로 레몬 355ml'),\n",
       " ('음료', '이롬 황성주박사의 과채습관 옐로우+퍼플 64입'),\n",
       " ('음료', '찐스틱 타트체리 몽모랑시 원액 주스 농축액 타트체리 쥬스 스틱 14포 2박스'),\n",
       " ('음료', '베버시티 후루티 스무디 딸기 1.8Kg 2개'),\n",
       " ('음료', '세미기업 세미 후루티 딸기스무디 1.8kg'),\n",
       " ('음료', '매일유업 썬업 과일 야채 샐러드 주스 그린 200ml'),\n",
       " ('음료', '유기농 케일주스 원데이보틀 클렌즈주스 X 3병'),\n",
       " ('음료', '[풀무원녹즙] 사과케일주스 과일주스'),\n",
       " ('음료', '무즙농축액 20kg'),\n",
       " ('음료', '모구모구 모구모구 피치 320ml X 24pet 복숭아맛 편의점 인기 과일 음료'),\n",
       " ('음료', '코카콜라 350ml'),\n",
       " ('음료', '바이오스틸 하이드레이션 믹스 12개입'),\n",
       " ('음료', '4가지맛 제로콜라 355ml 혼합4종(24캔)'),\n",
       " ('음료', '썬키스트 우리배 175ml 1캔 미니 캔음료 도매 음료수'),\n",
       " ('음료', '건강한사람들 노브랜드 콜라 1.5L'),\n",
       " ('음료', '코카콜라 토레타 500ml PET 24개입')]"
      ]
     },
     "execution_count": 112,
     "metadata": {},
     "output_type": "execute_result"
    }
   ],
   "source": [
    "table_name = \"top_item_\" + name\n",
    "cursor.execute(f\"SELECT * FROM {table_name}\")\n",
    "result = cursor.fetchall()\n",
    "\n",
    "# 가져온 데이터 출력 예시\n",
    "result\n"
   ]
  },
  {
   "cell_type": "code",
   "execution_count": 117,
   "id": "3c2757eb-9d0b-44da-bd3a-81e6bf1f4e50",
   "metadata": {
    "tags": []
   },
   "outputs": [
    {
     "data": {
      "text/plain": [
       "True"
      ]
     },
     "execution_count": 117,
     "metadata": {},
     "output_type": "execute_result"
    }
   ],
   "source": [
    "cursor.close()"
   ]
  }
 ],
 "metadata": {
  "celltoolbar": "Slideshow",
  "kernelspec": {
   "display_name": "Python 3 (ipykernel)",
   "language": "python",
   "name": "python3"
  },
  "language_info": {
   "codemirror_mode": {
    "name": "ipython",
    "version": 3
   },
   "file_extension": ".py",
   "mimetype": "text/x-python",
   "name": "python",
   "nbconvert_exporter": "python",
   "pygments_lexer": "ipython3",
   "version": "3.9.12"
  }
 },
 "nbformat": 4,
 "nbformat_minor": 5
}
