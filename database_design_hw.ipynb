{
 "cells": [
  {
   "cell_type": "code",
   "execution_count": 237,
   "id": "c87b3adb-38cf-4631-bf71-3633bb5e4a9d",
   "metadata": {},
   "outputs": [],
   "source": [
    "import pandas as pd\n",
    "import time\n",
    "import mysql.connector\n",
    "\n",
    "from bs4 import BeautifulSoup\n",
    "from selenium import webdriver\n",
    "from selenium.webdriver.common.by import By\n",
    "from selenium.webdriver.chrome.service import Service\n",
    "from selenium.webdriver.chrome.options import Options"
   ]
  },
  {
   "cell_type": "code",
   "execution_count": 204,
   "id": "ebed3c56-a175-4637-a1c3-a10b2994d1b5",
   "metadata": {},
   "outputs": [],
   "source": [
    "df = pd.read_csv(\"ttrain.csv\", encoding=\"UTF-8\")\n",
    "df = df.iloc[:, 1:]\n",
    "df.columns = [\"dept\", \"arr\", \"category\", \"cases\"]\n",
    "df[[\"dept\", \"arr\"]] = df[[\"dept\", \"arr\"]].apply(lambda x: x.astype(str))\n",
    "df[[\"dept\", \"arr\"]] = df[[\"dept\", \"arr\"]].apply(lambda x: x.str[:5])\n",
    "\n",
    "code = pd.read_excel(\"code.xlsx\", sheet_name=0)\n",
    "code.columns = [\"code\"]\n",
    "code['code'] = code['code'].apply(lambda x: x[11:])\n",
    "code = code['code'].str.split(' | ', expand=True)\n",
    "code = code.drop(code.columns[[1, 3]], axis=1)\n",
    "code = code.rename(columns={0 : 'code',2 : 'name'})\n",
    "code['name'] = code['name'].astype(str)\n",
    "\n",
    "df_merged = pd.merge(df, code, left_on=\"dept\", right_on=\"code\", how=\"left\")\n",
    "df_merged.rename(columns={\"name\": \"dept_name\"}, inplace=True)\n",
    "df_merged = pd.merge(df_merged, code, left_on=\"arr\", right_on=\"code\", how=\"left\")\n",
    "df_merged.rename(columns={\"name\": \"arr_name\"}, inplace=True)\n",
    "df = df_merged[[\"dept\", \"dept_name\", \"arr\", \"arr_name\", \"category\", \"cases\"]]\n",
    "df = df.groupby([\"dept_name\", \"arr_name\", \"category\"]).agg(total_cases=(\"cases\", \"sum\")).reset_index()"
   ]
  },
  {
   "cell_type": "code",
   "execution_count": 152,
   "id": "f5eb6598-40ce-465a-9eb9-c9bb2e9fae15",
   "metadata": {},
   "outputs": [
    {
     "name": "stdin",
     "output_type": "stream",
     "text": [
      "원하는 지역?  파주시\n"
     ]
    }
   ],
   "source": [
    "name = input(\"원하는 지역? \")"
   ]
  },
  {
   "cell_type": "code",
   "execution_count": 189,
   "id": "78a69b35-2aa5-4a67-992b-5052ce49fe38",
   "metadata": {},
   "outputs": [
    {
     "data": {
      "text/html": [
       "<div>\n",
       "<style scoped>\n",
       "    .dataframe tbody tr th:only-of-type {\n",
       "        vertical-align: middle;\n",
       "    }\n",
       "\n",
       "    .dataframe tbody tr th {\n",
       "        vertical-align: top;\n",
       "    }\n",
       "\n",
       "    .dataframe thead th {\n",
       "        text-align: right;\n",
       "    }\n",
       "</style>\n",
       "<table border=\"1\" class=\"dataframe\">\n",
       "  <thead>\n",
       "    <tr style=\"text-align: right;\">\n",
       "      <th></th>\n",
       "      <th>dept_name</th>\n",
       "      <th>arr_name</th>\n",
       "      <th>category</th>\n",
       "      <th>total_cases</th>\n",
       "    </tr>\n",
       "  </thead>\n",
       "  <tbody>\n",
       "    <tr>\n",
       "      <th>4108</th>\n",
       "      <td>파주시</td>\n",
       "      <td>서귀포시</td>\n",
       "      <td>가공식품</td>\n",
       "      <td>147</td>\n",
       "    </tr>\n",
       "    <tr>\n",
       "      <th>4109</th>\n",
       "      <td>파주시</td>\n",
       "      <td>서귀포시</td>\n",
       "      <td>기타디지털/가전</td>\n",
       "      <td>7</td>\n",
       "    </tr>\n",
       "    <tr>\n",
       "      <th>4110</th>\n",
       "      <td>파주시</td>\n",
       "      <td>서귀포시</td>\n",
       "      <td>기타식품</td>\n",
       "      <td>9</td>\n",
       "    </tr>\n",
       "  </tbody>\n",
       "</table>\n",
       "</div>"
      ],
      "text/plain": [
       "     dept_name arr_name  category  total_cases\n",
       "4108       파주시     서귀포시      가공식품          147\n",
       "4109       파주시     서귀포시  기타디지털/가전            7\n",
       "4110       파주시     서귀포시      기타식품            9"
      ]
     },
     "execution_count": 189,
     "metadata": {},
     "output_type": "execute_result"
    }
   ],
   "source": [
    "# 첫번째 테이블\n",
    "dept_region_subset = df[df[\"dept_name\"].str.contains(name)]\n",
    "dept_region_subset.head(3)"
   ]
  },
  {
   "cell_type": "code",
   "execution_count": 190,
   "id": "4f3474cb-3e6b-4996-a2b7-078c63a3d22d",
   "metadata": {},
   "outputs": [
    {
     "data": {
      "text/html": [
       "<div>\n",
       "<style scoped>\n",
       "    .dataframe tbody tr th:only-of-type {\n",
       "        vertical-align: middle;\n",
       "    }\n",
       "\n",
       "    .dataframe tbody tr th {\n",
       "        vertical-align: top;\n",
       "    }\n",
       "\n",
       "    .dataframe thead th {\n",
       "        text-align: right;\n",
       "    }\n",
       "</style>\n",
       "<table border=\"1\" class=\"dataframe\">\n",
       "  <thead>\n",
       "    <tr style=\"text-align: right;\">\n",
       "      <th></th>\n",
       "      <th>category</th>\n",
       "      <th>total_cases</th>\n",
       "      <th>dept_region</th>\n",
       "    </tr>\n",
       "  </thead>\n",
       "  <tbody>\n",
       "    <tr>\n",
       "      <th>0</th>\n",
       "      <td>문화컨텐츠</td>\n",
       "      <td>4273</td>\n",
       "      <td>파주시</td>\n",
       "    </tr>\n",
       "    <tr>\n",
       "      <th>1</th>\n",
       "      <td>음반</td>\n",
       "      <td>672</td>\n",
       "      <td>파주시</td>\n",
       "    </tr>\n",
       "    <tr>\n",
       "      <th>2</th>\n",
       "      <td>가공식품</td>\n",
       "      <td>464</td>\n",
       "      <td>파주시</td>\n",
       "    </tr>\n",
       "  </tbody>\n",
       "</table>\n",
       "</div>"
      ],
      "text/plain": [
       "  category  total_cases dept_region\n",
       "0    문화컨텐츠         4273         파주시\n",
       "1       음반          672         파주시\n",
       "2     가공식품          464         파주시"
      ]
     },
     "execution_count": 190,
     "metadata": {},
     "output_type": "execute_result"
    }
   ],
   "source": [
    "category_sum = df[df[\"dept_name\"].str.contains(name)].groupby(\"category\")\\\n",
    ".agg(total_cases=(\"total_cases\", \"sum\"))\\\n",
    ".sort_values(\"total_cases\", ascending=False)\\\n",
    ".head(3)\\\n",
    ".reset_index()\n",
    "category_sum[\"dept_region\"] = name\n",
    "category_sum"
   ]
  },
  {
   "cell_type": "code",
   "execution_count": 191,
   "id": "05447c6d-7029-48de-90a3-9cc36bbad290",
   "metadata": {},
   "outputs": [
    {
     "data": {
      "text/plain": [
       "['문화컨텐츠', '음반', '가공식품']"
      ]
     },
     "execution_count": 191,
     "metadata": {},
     "output_type": "execute_result"
    }
   ],
   "source": [
    "top_categories = category_sum[\"category\"].tolist()\n",
    "top_categories"
   ]
  },
  {
   "cell_type": "code",
   "execution_count": 192,
   "id": "be0ff88d-aaa0-47d1-a63c-83d18e46f705",
   "metadata": {},
   "outputs": [
    {
     "data": {
      "text/html": [
       "<div>\n",
       "<style scoped>\n",
       "    .dataframe tbody tr th:only-of-type {\n",
       "        vertical-align: middle;\n",
       "    }\n",
       "\n",
       "    .dataframe tbody tr th {\n",
       "        vertical-align: top;\n",
       "    }\n",
       "\n",
       "    .dataframe thead th {\n",
       "        text-align: right;\n",
       "    }\n",
       "</style>\n",
       "<table border=\"1\" class=\"dataframe\">\n",
       "  <thead>\n",
       "    <tr style=\"text-align: right;\">\n",
       "      <th></th>\n",
       "      <th>category</th>\n",
       "      <th>total_cases</th>\n",
       "      <th>arr_region</th>\n",
       "    </tr>\n",
       "  </thead>\n",
       "  <tbody>\n",
       "    <tr>\n",
       "      <th>0</th>\n",
       "      <td>농산물</td>\n",
       "      <td>684</td>\n",
       "      <td>파주시</td>\n",
       "    </tr>\n",
       "    <tr>\n",
       "      <th>1</th>\n",
       "      <td>기타식품</td>\n",
       "      <td>56</td>\n",
       "      <td>파주시</td>\n",
       "    </tr>\n",
       "    <tr>\n",
       "      <th>2</th>\n",
       "      <td>음료</td>\n",
       "      <td>52</td>\n",
       "      <td>파주시</td>\n",
       "    </tr>\n",
       "  </tbody>\n",
       "</table>\n",
       "</div>"
      ],
      "text/plain": [
       "  category  total_cases arr_region\n",
       "0      농산물          684        파주시\n",
       "1     기타식품           56        파주시\n",
       "2       음료           52        파주시"
      ]
     },
     "execution_count": 192,
     "metadata": {},
     "output_type": "execute_result"
    }
   ],
   "source": [
    "category_sum = df[df[\"arr_name\"].str.contains(name)].groupby(\"category\")\\\n",
    ".agg(total_cases=(\"total_cases\", \"sum\"))\\\n",
    ".sort_values(\"total_cases\", ascending=False)\\\n",
    ".head(3)\\\n",
    ".reset_index()\n",
    "category_sum[\"arr_region\"] = name\n",
    "category_sum"
   ]
  },
  {
   "cell_type": "code",
   "execution_count": 193,
   "id": "033c0dca-46ab-4ed0-99e4-8664c702ed12",
   "metadata": {},
   "outputs": [
    {
     "data": {
      "text/plain": [
       "['농산물', '기타식품', '음료']"
      ]
     },
     "execution_count": 193,
     "metadata": {},
     "output_type": "execute_result"
    }
   ],
   "source": [
    "top_categories = category_sum[\"category\"].tolist()\n",
    "top_categories"
   ]
  },
  {
   "cell_type": "code",
   "execution_count": 199,
   "id": "3627e3de-91f1-4802-9fdd-b3446aeef5f5",
   "metadata": {},
   "outputs": [],
   "source": [
    "def getitem(top_categories):\n",
    "    chrome_options = Options()\n",
    "    driver = webdriver.Chrome(service=Service('/Users/gwagdoseong/Documents/Rprogramming/chromedriver.exe'), options=chrome_options)\n",
    "\n",
    "    max_page = 5\n",
    "    result = pd.DataFrame(columns=[\"검색어\", \"상품명\"])\n",
    "\n",
    "    for word in top_categories:\n",
    "        for i in range(1, max_page+1):\n",
    "            URL = f'https://search.shopping.naver.com/search/all?query={word}&pagingIndex={i}&pagingSize=40&productSet=total&sort=rel'\n",
    "            driver.get(URL)\n",
    "\n",
    "            soup = BeautifulSoup(driver.page_source, 'html.parser')\n",
    "            goods_list = soup.select('div.basicList_title__VfX3c')\n",
    "\n",
    "            item_names = []\n",
    "            for v in goods_list:\n",
    "                item_name = v.select_one('div.basicList_title__VfX3c > a').get('title')\n",
    "                item_names.append(item_name)\n",
    "\n",
    "            df = pd.DataFrame({\"검색어\": [word]*len(item_names), \"상품명\": item_names})\n",
    "            result = pd.concat([result, df], ignore_index=True)\n",
    "    return result\n",
    "    driver.quit()"
   ]
  },
  {
   "cell_type": "code",
   "execution_count": 200,
   "id": "46d0dfae-8d5b-4eac-97d0-40b01f99b69c",
   "metadata": {},
   "outputs": [],
   "source": [
    "results = getitem(top_categories)"
   ]
  },
  {
   "cell_type": "code",
   "execution_count": null,
   "id": "bcd6dff8-755f-45e0-ac99-467f8af094e7",
   "metadata": {},
   "outputs": [
    {
     "data": {
      "text/html": [
       "<div>\n",
       "<style scoped>\n",
       "    .dataframe tbody tr th:only-of-type {\n",
       "        vertical-align: middle;\n",
       "    }\n",
       "\n",
       "    .dataframe tbody tr th {\n",
       "        vertical-align: top;\n",
       "    }\n",
       "\n",
       "    .dataframe thead th {\n",
       "        text-align: right;\n",
       "    }\n",
       "</style>\n",
       "<table border=\"1\" class=\"dataframe\">\n",
       "  <thead>\n",
       "    <tr style=\"text-align: right;\">\n",
       "      <th></th>\n",
       "      <th>검색어</th>\n",
       "      <th>상품명</th>\n",
       "    </tr>\n",
       "  </thead>\n",
       "  <tbody>\n",
       "    <tr>\n",
       "      <th>0</th>\n",
       "      <td>농산물</td>\n",
       "      <td>유럽 샐러드 채소 쌈야채1Kg 무농약 유러피안</td>\n",
       "    </tr>\n",
       "    <tr>\n",
       "      <th>1</th>\n",
       "      <td>농산물</td>\n",
       "      <td>[첫구매한정]영양쌀 (혼합/보통) 20kg</td>\n",
       "    </tr>\n",
       "    <tr>\n",
       "      <th>2</th>\n",
       "      <td>농산물</td>\n",
       "      <td>낙산배월리농원 7.5 KG(10과,11과,12과)</td>\n",
       "    </tr>\n",
       "    <tr>\n",
       "      <th>3</th>\n",
       "      <td>농산물</td>\n",
       "      <td>수향미 골든퀸 10kg</td>\n",
       "    </tr>\n",
       "    <tr>\n",
       "      <th>4</th>\n",
       "      <td>농산물</td>\n",
       "      <td>사과 경북 부사 못난이 꿀사과 5kg 10kg</td>\n",
       "    </tr>\n",
       "    <tr>\n",
       "      <th>...</th>\n",
       "      <td>...</td>\n",
       "      <td>...</td>\n",
       "    </tr>\n",
       "    <tr>\n",
       "      <th>70</th>\n",
       "      <td>음료</td>\n",
       "      <td>Dole 돌쥬스 팩음료 파인애플 주스</td>\n",
       "    </tr>\n",
       "    <tr>\n",
       "      <th>71</th>\n",
       "      <td>음료</td>\n",
       "      <td>슈가로로 투명콜라 제로코크 라임콜라 350ml</td>\n",
       "    </tr>\n",
       "    <tr>\n",
       "      <th>72</th>\n",
       "      <td>음료</td>\n",
       "      <td>ES키키 감귤 레진 1.8L</td>\n",
       "    </tr>\n",
       "    <tr>\n",
       "      <th>73</th>\n",
       "      <td>음료</td>\n",
       "      <td>롯데칠성음료 펩시콜라 245ml</td>\n",
       "    </tr>\n",
       "    <tr>\n",
       "      <th>74</th>\n",
       "      <td>음료</td>\n",
       "      <td>코카콜라 파워에이드 340ml</td>\n",
       "    </tr>\n",
       "  </tbody>\n",
       "</table>\n",
       "<p>75 rows × 2 columns</p>\n",
       "</div>"
      ],
      "text/plain": [
       "    검색어                          상품명\n",
       "0   농산물    유럽 샐러드 채소 쌈야채1Kg 무농약 유러피안\n",
       "1   농산물      [첫구매한정]영양쌀 (혼합/보통) 20kg\n",
       "2   농산물  낙산배월리농원 7.5 KG(10과,11과,12과)\n",
       "3   농산물                 수향미 골든퀸 10kg\n",
       "4   농산물    사과 경북 부사 못난이 꿀사과 5kg 10kg\n",
       "..  ...                          ...\n",
       "70   음료         Dole 돌쥬스 팩음료 파인애플 주스\n",
       "71   음료    슈가로로 투명콜라 제로코크 라임콜라 350ml\n",
       "72   음료              ES키키 감귤 레진 1.8L\n",
       "73   음료            롯데칠성음료 펩시콜라 245ml\n",
       "74   음료             코카콜라 파워에이드 340ml\n",
       "\n",
       "[75 rows x 2 columns]"
      ]
     },
     "execution_count": 201,
     "metadata": {},
     "output_type": "execute_result"
    }
   ],
   "source": [
    "results"
   ]
  },
  {
   "cell_type": "code",
   "execution_count": 223,
   "id": "b1632df1-4be2-45d3-bbf1-57ecb4e48cce",
   "metadata": {},
   "outputs": [],
   "source": [
    "mydb = mysql.connector.connect(\n",
    "    host=\"localhost\",\n",
    "    user=\"root\",\n",
    "    password=\"264433\"\n",
    ")"
   ]
  },
  {
   "cell_type": "code",
   "execution_count": 224,
   "id": "ad017bca-7b55-4176-a38d-26f4c4136a3e",
   "metadata": {},
   "outputs": [],
   "source": [
    "cursor = mydb.cursor()\n",
    "cursor.execute(\"CREATE DATABASE LOGISTICS\")"
   ]
  },
  {
   "cell_type": "code",
   "execution_count": 225,
   "id": "7bde1f42-e31e-4e51-b642-10007659e892",
   "metadata": {},
   "outputs": [],
   "source": [
    "cursor.execute(\"SET NAMES utf8;\")\n",
    "cursor.execute(\"SET CHARACTER SET utf8;\")\n",
    "cursor.execute(\"SET character_set_connection=utf8;\")"
   ]
  },
  {
   "cell_type": "code",
   "execution_count": 226,
   "id": "a78dd49a-a8c8-4b07-8b62-ca7180b885ba",
   "metadata": {},
   "outputs": [],
   "source": [
    "cursor.execute(\"USE LOGISTICS\")"
   ]
  },
  {
   "cell_type": "code",
   "execution_count": 227,
   "id": "2264e29a-82dd-4322-b8bc-9453e6aea1a8",
   "metadata": {},
   "outputs": [],
   "source": [
    "cursor.execute(\"CREATE TABLE \\\n",
    "logistics (dept_name VARCHAR(15)CHARACTER SET utf8,\\\n",
    "arr_name VARCHAR(15)CHARACTER SET utf8,\\\n",
    "category VARCHAR(15)CHARACTER SET utf8,\\\n",
    "total_cases INT) \")"
   ]
  },
  {
   "cell_type": "code",
   "execution_count": 228,
   "id": "6409957d-b6e2-47ff-a5ac-6a6dd087a37c",
   "metadata": {},
   "outputs": [],
   "source": [
    "cursor.execute(\"SET GLOBAL local_infile = true;\")"
   ]
  },
  {
   "cell_type": "code",
   "execution_count": 231,
   "id": "44c87673-208f-4027-8453-20081682ca9b",
   "metadata": {},
   "outputs": [],
   "source": [
    "for _, row in df.iterrows():\n",
    "    cursor.execute(f\"INSERT INTO logistics (dept_name, arr_name, category, total_cases) \\\n",
    "        VALUES ('{row['dept_name']}', '{row['arr_name']}', '{row['category']}', {row['total_cases']})\")\n"
   ]
  },
  {
   "cell_type": "code",
   "execution_count": 234,
   "id": "db2123f4-07cd-4e85-8564-e3ee9ded04ef",
   "metadata": {},
   "outputs": [],
   "source": [
    "cursor.execute(\"SELECT * FROM logistics\")\n",
    "result = cursor.fetchall()"
   ]
  },
  {
   "cell_type": "code",
   "execution_count": 236,
   "id": "3c2757eb-9d0b-44da-bd3a-81e6bf1f4e50",
   "metadata": {},
   "outputs": [
    {
     "data": {
      "text/plain": [
       "True"
      ]
     },
     "execution_count": 236,
     "metadata": {},
     "output_type": "execute_result"
    }
   ],
   "source": [
    "cursor.close()"
   ]
  },
  {
   "cell_type": "code",
   "execution_count": null,
   "id": "e2e75944-c3e8-4cb4-8818-db9b250a80bf",
   "metadata": {},
   "outputs": [],
   "source": []
  }
 ],
 "metadata": {
  "kernelspec": {
   "display_name": "Python 3 (ipykernel)",
   "language": "python",
   "name": "python3"
  },
  "language_info": {
   "codemirror_mode": {
    "name": "ipython",
    "version": 3
   },
   "file_extension": ".py",
   "mimetype": "text/x-python",
   "name": "python",
   "nbconvert_exporter": "python",
   "pygments_lexer": "ipython3",
   "version": "3.9.12"
  }
 },
 "nbformat": 4,
 "nbformat_minor": 5
}
